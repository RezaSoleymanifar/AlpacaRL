{
 "cells": [
  {
   "cell_type": "code",
   "execution_count": 4,
   "metadata": {},
   "outputs": [
    {
     "name": "stdout",
     "output_type": "stream",
     "text": [
      "https://paper-api.alpaca.markets\n"
     ]
    }
   ],
   "source": [
    "!echo $ALPACA_API_ENDPOINT_PAPER"
   ]
  },
  {
   "cell_type": "code",
   "execution_count": 5,
   "metadata": {},
   "outputs": [],
   "source": [
    "import os\n",
    "\n",
    "BASE_URL = 'https://api.alpaca.markets'\n",
    "PAPER_URL = 'https://paper-api.alpaca.markets'\n",
    "\n",
    "API_KEY = os.environ['ALPACA_API_KEY']\n",
    "API_SECRET = os.environ['ALPACA_API_SECRET']"
   ]
  },
  {
   "cell_type": "code",
   "execution_count": 6,
   "metadata": {},
   "outputs": [],
   "source": [
    "key = API_KEY\n",
    "secret = API_SECRET"
   ]
  },
  {
   "cell_type": "code",
   "execution_count": 235,
   "metadata": {},
   "outputs": [],
   "source": [
    "from alpaca.data.historical import CryptoHistoricalDataClient, StockHistoricalDataClient\n",
    "from alpaca.trading import TradingClient\n",
    "from alpaca.data.requests import CryptoBarsRequest, StockBarsRequest\n",
    "\n",
    "from alpaca.trading.enums import AssetExchange, AssetClass, AccountStatus, AssetStatus\n",
    "\n",
    "from datetime import datetime\n",
    "from alpaca.data.timeframe import TimeFrame, TimeFrameUnit\n",
    "import re\n",
    "from enum import Enum\n",
    "\n",
    "import pandas as pd\n",
    "\n",
    "# set up clients\n",
    "crypto_client = CryptoHistoricalDataClient()\n",
    "stock_client = StockHistoricalDataClient(key, secret)\n",
    "trading_client = TradingClient(key, secret)\n"
   ]
  },
  {
   "cell_type": "code",
   "execution_count": 273,
   "metadata": {},
   "outputs": [],
   "source": [
    "start = '2022-09-01'\n",
    "end = '2022-09-09'\n",
    "timeframe = '20Min'"
   ]
  },
  {
   "cell_type": "code",
   "execution_count": 274,
   "metadata": {},
   "outputs": [],
   "source": [
    "start = parse_date(start)\n",
    "end = parse_date(end)\n",
    "timeframe = parse_timeframe(timeframe)\n"
   ]
  },
  {
   "cell_type": "code",
   "execution_count": 102,
   "metadata": {},
   "outputs": [],
   "source": [
    "symbol = ['BTC/USD']"
   ]
  },
  {
   "cell_type": "code",
   "execution_count": 262,
   "metadata": {},
   "outputs": [],
   "source": [
    "symbol = ['AAPL', 'MMM']"
   ]
  },
  {
   "cell_type": "code",
   "execution_count": 263,
   "metadata": {},
   "outputs": [],
   "source": [
    "def parse_timeframe(time_frame: str):\n",
    "\n",
    "    match = re.search(r'(\\d+)(\\w+)', time_frame)\n",
    "\n",
    "    if match:\n",
    "        \n",
    "        amount = int(match.group(1))\n",
    "        unit = match.group(2)\n",
    "\n",
    "        map = {\n",
    "            'Min':TimeFrameUnit.Minute,\n",
    "            'Hour':TimeFrameUnit.Hour,\n",
    "            'Day': TimeFrameUnit.Day,\n",
    "            'Week': TimeFrameUnit.Week,\n",
    "            'Month': TimeFrameUnit.Month\n",
    "        }\n",
    "\n",
    "        return TimeFrame(amount, map[unit])\n",
    "    else:\n",
    "        raise ValueError(\n",
    "            \"Invalid timeframe format. Valid examples: 5Min, 3Hour, 10Day\")"
   ]
  },
  {
   "cell_type": "code",
   "execution_count": 264,
   "metadata": {},
   "outputs": [],
   "source": [
    "def parse_date(date: str):\n",
    "\n",
    "    date_format = \"%Y-%m-%d\"\n",
    "    dt = datetime.strptime(date, date_format)\n",
    "    \n",
    "    return dt"
   ]
  },
  {
   "cell_type": "code",
   "execution_count": 265,
   "metadata": {},
   "outputs": [],
   "source": [
    "def get_stock_bars(symbol, timeframe, start, end):\n",
    "\n",
    "    stock_request = StockBarsRequest(\n",
    "        symbol_or_symbols=symbol, timeframe=timeframe, start=start, end=end)\n",
    "\n",
    "    stock_bars = stock_client.get_stock_bars(stock_request).df\n",
    "\n",
    "    return stock_bars\n"
   ]
  },
  {
   "cell_type": "code",
   "execution_count": 266,
   "metadata": {},
   "outputs": [],
   "source": [
    "def get_crypto_bars(symbol, timeframe, start, end):\n",
    "\n",
    "    crypto_request = CryptoBarsRequest(\n",
    "        symbol_or_symbols=symbol, timeframe = timeframe, start=start, end=end)\n",
    "    \n",
    "    crypto_bars = crypto_client.get_crypto_bars(crypto_request).df\n",
    "    \n",
    "    return crypto_bars"
   ]
  },
  {
   "cell_type": "code",
   "execution_count": 108,
   "metadata": {},
   "outputs": [
    {
     "ename": "APIError",
     "evalue": "{\"message\":\"Invalid symbol(s): AAPL does not match ^[A-Z]+/[A-Z]+$\"}\n",
     "output_type": "error",
     "traceback": [
      "\u001b[0;31m---------------------------------------------------------------------------\u001b[0m",
      "\u001b[0;31mHTTPError\u001b[0m                                 Traceback (most recent call last)",
      "File \u001b[0;32m~/miniconda3/envs/alpaca-rl/lib/python3.10/site-packages/alpaca/common/rest.py:197\u001b[0m, in \u001b[0;36mRESTClient._one_request\u001b[0;34m(self, method, url, opts, retry)\u001b[0m\n\u001b[1;32m    196\u001b[0m \u001b[39mtry\u001b[39;00m:\n\u001b[0;32m--> 197\u001b[0m     response\u001b[39m.\u001b[39;49mraise_for_status()\n\u001b[1;32m    198\u001b[0m \u001b[39mexcept\u001b[39;00m HTTPError \u001b[39mas\u001b[39;00m http_error:\n\u001b[1;32m    199\u001b[0m     \u001b[39m# retry if we hit Rate Limit\u001b[39;00m\n",
      "File \u001b[0;32m~/miniconda3/envs/alpaca-rl/lib/python3.10/site-packages/requests/models.py:1021\u001b[0m, in \u001b[0;36mResponse.raise_for_status\u001b[0;34m(self)\u001b[0m\n\u001b[1;32m   1020\u001b[0m \u001b[39mif\u001b[39;00m http_error_msg:\n\u001b[0;32m-> 1021\u001b[0m     \u001b[39mraise\u001b[39;00m HTTPError(http_error_msg, response\u001b[39m=\u001b[39m\u001b[39mself\u001b[39m)\n",
      "\u001b[0;31mHTTPError\u001b[0m: 400 Client Error: Bad Request for url: https://data.alpaca.markets/v1beta2/crypto/bars?start=2022-09-01T00%3A00%3A00Z&end=2022-09-09T00%3A00%3A00Z&timeframe=20Min&symbols=AAPL%2CMMM",
      "\nDuring handling of the above exception, another exception occurred:\n",
      "\u001b[0;31mAPIError\u001b[0m                                  Traceback (most recent call last)",
      "Cell \u001b[0;32mIn[108], line 1\u001b[0m\n\u001b[0;32m----> 1\u001b[0m crypto_bars \u001b[39m=\u001b[39m get_crypto_bars(symbol, timeframe, start, end)\n",
      "Cell \u001b[0;32mIn[107], line 6\u001b[0m, in \u001b[0;36mget_crypto_bars\u001b[0;34m(symbol, timeframe, start, end)\u001b[0m\n\u001b[1;32m      1\u001b[0m \u001b[39mdef\u001b[39;00m \u001b[39mget_crypto_bars\u001b[39m(symbol, timeframe, start, end):\n\u001b[1;32m      3\u001b[0m     crypto_request \u001b[39m=\u001b[39m CryptoBarsRequest(\n\u001b[1;32m      4\u001b[0m         symbol_or_symbols\u001b[39m=\u001b[39msymbol, timeframe \u001b[39m=\u001b[39m timeframe, start\u001b[39m=\u001b[39mstart, end\u001b[39m=\u001b[39mend)\n\u001b[0;32m----> 6\u001b[0m     crypto_bars \u001b[39m=\u001b[39m crypto_client\u001b[39m.\u001b[39;49mget_crypto_bars(crypto_request)\u001b[39m.\u001b[39mdf\n\u001b[1;32m      8\u001b[0m     \u001b[39mreturn\u001b[39;00m crypto_bars\n",
      "File \u001b[0;32m~/miniconda3/envs/alpaca-rl/lib/python3.10/site-packages/alpaca/data/historical/crypto.py:87\u001b[0m, in \u001b[0;36mCryptoHistoricalDataClient.get_crypto_bars\u001b[0;34m(self, request_params)\u001b[0m\n\u001b[1;32m     84\u001b[0m params \u001b[39m=\u001b[39m request_params\u001b[39m.\u001b[39mto_request_fields()\n\u001b[1;32m     86\u001b[0m \u001b[39m# paginated get request for crypto market data api\u001b[39;00m\n\u001b[0;32m---> 87\u001b[0m raw_bars \u001b[39m=\u001b[39m \u001b[39mself\u001b[39;49m\u001b[39m.\u001b[39;49m_data_get(\n\u001b[1;32m     88\u001b[0m     endpoint_asset_class\u001b[39m=\u001b[39;49m\u001b[39m\"\u001b[39;49m\u001b[39mcrypto\u001b[39;49m\u001b[39m\"\u001b[39;49m,\n\u001b[1;32m     89\u001b[0m     endpoint_data_type\u001b[39m=\u001b[39;49m\u001b[39m\"\u001b[39;49m\u001b[39mbars\u001b[39;49m\u001b[39m\"\u001b[39;49m,\n\u001b[1;32m     90\u001b[0m     api_version\u001b[39m=\u001b[39;49m\u001b[39m\"\u001b[39;49m\u001b[39mv1beta2\u001b[39;49m\u001b[39m\"\u001b[39;49m,\n\u001b[1;32m     91\u001b[0m     \u001b[39m*\u001b[39;49m\u001b[39m*\u001b[39;49mparams,\n\u001b[1;32m     92\u001b[0m )\n\u001b[1;32m     94\u001b[0m \u001b[39mif\u001b[39;00m \u001b[39mself\u001b[39m\u001b[39m.\u001b[39m_use_raw_data:\n\u001b[1;32m     95\u001b[0m     \u001b[39mreturn\u001b[39;00m raw_bars\n",
      "File \u001b[0;32m~/miniconda3/envs/alpaca-rl/lib/python3.10/site-packages/alpaca/data/historical/crypto.py:365\u001b[0m, in \u001b[0;36mCryptoHistoricalDataClient._data_get\u001b[0;34m(self, endpoint_asset_class, endpoint_data_type, api_version, symbol_or_symbols, limit, page_limit, extension, **kwargs)\u001b[0m\n\u001b[1;32m    362\u001b[0m params[\u001b[39m\"\u001b[39m\u001b[39mlimit\u001b[39m\u001b[39m\"\u001b[39m] \u001b[39m=\u001b[39m actual_limit\n\u001b[1;32m    363\u001b[0m params[\u001b[39m\"\u001b[39m\u001b[39mpage_token\u001b[39m\u001b[39m\"\u001b[39m] \u001b[39m=\u001b[39m page_token\n\u001b[0;32m--> 365\u001b[0m response \u001b[39m=\u001b[39m \u001b[39mself\u001b[39;49m\u001b[39m.\u001b[39;49mget(path\u001b[39m=\u001b[39;49mpath, data\u001b[39m=\u001b[39;49mparams, api_version\u001b[39m=\u001b[39;49mapi_version)\n\u001b[1;32m    367\u001b[0m \u001b[39m# TODO: Merge parsing if possible\u001b[39;00m\n\u001b[1;32m    368\u001b[0m \u001b[39mif\u001b[39;00m (\n\u001b[1;32m    369\u001b[0m     extension \u001b[39m==\u001b[39m DataExtensionType\u001b[39m.\u001b[39mLATEST\n\u001b[1;32m    370\u001b[0m     \u001b[39mor\u001b[39;00m extension \u001b[39m==\u001b[39m DataExtensionType\u001b[39m.\u001b[39mSNAPSHOT\n\u001b[1;32m    371\u001b[0m ):\n",
      "File \u001b[0;32m~/miniconda3/envs/alpaca-rl/lib/python3.10/site-packages/alpaca/common/rest.py:222\u001b[0m, in \u001b[0;36mRESTClient.get\u001b[0;34m(self, path, data, **kwargs)\u001b[0m\n\u001b[1;32m    211\u001b[0m \u001b[39mdef\u001b[39;00m \u001b[39mget\u001b[39m(\u001b[39mself\u001b[39m, path: \u001b[39mstr\u001b[39m, data: Union[\u001b[39mdict\u001b[39m, \u001b[39mstr\u001b[39m] \u001b[39m=\u001b[39m \u001b[39mNone\u001b[39;00m, \u001b[39m*\u001b[39m\u001b[39m*\u001b[39mkwargs) \u001b[39m-\u001b[39m\u001b[39m>\u001b[39m HTTPResult:\n\u001b[1;32m    212\u001b[0m \u001b[39m    \u001b[39m\u001b[39m\"\"\"Performs a single GET request\u001b[39;00m\n\u001b[1;32m    213\u001b[0m \n\u001b[1;32m    214\u001b[0m \u001b[39m    Args:\u001b[39;00m\n\u001b[0;32m   (...)\u001b[0m\n\u001b[1;32m    220\u001b[0m \u001b[39m        dict: The response\u001b[39;00m\n\u001b[1;32m    221\u001b[0m \u001b[39m    \"\"\"\u001b[39;00m\n\u001b[0;32m--> 222\u001b[0m     \u001b[39mreturn\u001b[39;00m \u001b[39mself\u001b[39;49m\u001b[39m.\u001b[39;49m_request(\u001b[39m\"\u001b[39;49m\u001b[39mGET\u001b[39;49m\u001b[39m\"\u001b[39;49m, path, data, \u001b[39m*\u001b[39;49m\u001b[39m*\u001b[39;49mkwargs)\n",
      "File \u001b[0;32m~/miniconda3/envs/alpaca-rl/lib/python3.10/site-packages/alpaca/common/rest.py:130\u001b[0m, in \u001b[0;36mRESTClient._request\u001b[0;34m(self, method, path, data, base_url, api_version)\u001b[0m\n\u001b[1;32m    128\u001b[0m \u001b[39mwhile\u001b[39;00m retry \u001b[39m>\u001b[39m\u001b[39m=\u001b[39m \u001b[39m0\u001b[39m:\n\u001b[1;32m    129\u001b[0m     \u001b[39mtry\u001b[39;00m:\n\u001b[0;32m--> 130\u001b[0m         \u001b[39mreturn\u001b[39;00m \u001b[39mself\u001b[39;49m\u001b[39m.\u001b[39;49m_one_request(method, url, opts, retry)\n\u001b[1;32m    131\u001b[0m     \u001b[39mexcept\u001b[39;00m RetryException:\n\u001b[1;32m    132\u001b[0m         time\u001b[39m.\u001b[39msleep(\u001b[39mself\u001b[39m\u001b[39m.\u001b[39m_retry_wait)\n",
      "File \u001b[0;32m~/miniconda3/envs/alpaca-rl/lib/python3.10/site-packages/alpaca/common/rest.py:206\u001b[0m, in \u001b[0;36mRESTClient._one_request\u001b[0;34m(self, method, url, opts, retry)\u001b[0m\n\u001b[1;32m    203\u001b[0m     \u001b[39m# raise API error for all other errors\u001b[39;00m\n\u001b[1;32m    204\u001b[0m     error \u001b[39m=\u001b[39m response\u001b[39m.\u001b[39mtext\n\u001b[0;32m--> 206\u001b[0m     \u001b[39mraise\u001b[39;00m APIError(error, http_error)\n\u001b[1;32m    208\u001b[0m \u001b[39mif\u001b[39;00m response\u001b[39m.\u001b[39mtext \u001b[39m!=\u001b[39m \u001b[39m\"\u001b[39m\u001b[39m\"\u001b[39m:\n\u001b[1;32m    209\u001b[0m     \u001b[39mreturn\u001b[39;00m response\u001b[39m.\u001b[39mjson()\n",
      "\u001b[0;31mAPIError\u001b[0m: {\"message\":\"Invalid symbol(s): AAPL does not match ^[A-Z]+/[A-Z]+$\"}\n"
     ]
    }
   ],
   "source": [
    "crypto_bars = get_crypto_bars(symbol, timeframe, start, end)"
   ]
  },
  {
   "cell_type": "code",
   "execution_count": 109,
   "metadata": {},
   "outputs": [
    {
     "ename": "AttributeError",
     "evalue": "'DataFrame' object has no attribute 'df'",
     "output_type": "error",
     "traceback": [
      "\u001b[0;31m---------------------------------------------------------------------------\u001b[0m",
      "\u001b[0;31mAttributeError\u001b[0m                            Traceback (most recent call last)",
      "Cell \u001b[0;32mIn[109], line 1\u001b[0m\n\u001b[0;32m----> 1\u001b[0m crypto_bars\u001b[39m.\u001b[39;49mdf\n",
      "File \u001b[0;32m~/miniconda3/envs/alpaca-rl/lib/python3.10/site-packages/pandas/core/generic.py:5902\u001b[0m, in \u001b[0;36mNDFrame.__getattr__\u001b[0;34m(self, name)\u001b[0m\n\u001b[1;32m   5895\u001b[0m \u001b[39mif\u001b[39;00m (\n\u001b[1;32m   5896\u001b[0m     name \u001b[39mnot\u001b[39;00m \u001b[39min\u001b[39;00m \u001b[39mself\u001b[39m\u001b[39m.\u001b[39m_internal_names_set\n\u001b[1;32m   5897\u001b[0m     \u001b[39mand\u001b[39;00m name \u001b[39mnot\u001b[39;00m \u001b[39min\u001b[39;00m \u001b[39mself\u001b[39m\u001b[39m.\u001b[39m_metadata\n\u001b[1;32m   5898\u001b[0m     \u001b[39mand\u001b[39;00m name \u001b[39mnot\u001b[39;00m \u001b[39min\u001b[39;00m \u001b[39mself\u001b[39m\u001b[39m.\u001b[39m_accessors\n\u001b[1;32m   5899\u001b[0m     \u001b[39mand\u001b[39;00m \u001b[39mself\u001b[39m\u001b[39m.\u001b[39m_info_axis\u001b[39m.\u001b[39m_can_hold_identifiers_and_holds_name(name)\n\u001b[1;32m   5900\u001b[0m ):\n\u001b[1;32m   5901\u001b[0m     \u001b[39mreturn\u001b[39;00m \u001b[39mself\u001b[39m[name]\n\u001b[0;32m-> 5902\u001b[0m \u001b[39mreturn\u001b[39;00m \u001b[39mobject\u001b[39;49m\u001b[39m.\u001b[39;49m\u001b[39m__getattribute__\u001b[39;49m(\u001b[39mself\u001b[39;49m, name)\n",
      "\u001b[0;31mAttributeError\u001b[0m: 'DataFrame' object has no attribute 'df'"
     ]
    }
   ],
   "source": [
    "crypto_bars.df"
   ]
  },
  {
   "cell_type": "code",
   "execution_count": 278,
   "metadata": {},
   "outputs": [],
   "source": [
    "symbol = 'AAPL'"
   ]
  },
  {
   "cell_type": "code",
   "execution_count": 279,
   "metadata": {},
   "outputs": [],
   "source": [
    "stock_bars = get_stock_bars(symbol, TimeFrame.Day, start, end)"
   ]
  },
  {
   "cell_type": "code",
   "execution_count": 280,
   "metadata": {},
   "outputs": [
    {
     "data": {
      "text/html": [
       "<div>\n",
       "<style scoped>\n",
       "    .dataframe tbody tr th:only-of-type {\n",
       "        vertical-align: middle;\n",
       "    }\n",
       "\n",
       "    .dataframe tbody tr th {\n",
       "        vertical-align: top;\n",
       "    }\n",
       "\n",
       "    .dataframe thead th {\n",
       "        text-align: right;\n",
       "    }\n",
       "</style>\n",
       "<table border=\"1\" class=\"dataframe\">\n",
       "  <thead>\n",
       "    <tr style=\"text-align: right;\">\n",
       "      <th></th>\n",
       "      <th></th>\n",
       "      <th>open</th>\n",
       "      <th>high</th>\n",
       "      <th>low</th>\n",
       "      <th>close</th>\n",
       "      <th>volume</th>\n",
       "      <th>trade_count</th>\n",
       "      <th>vwap</th>\n",
       "    </tr>\n",
       "    <tr>\n",
       "      <th>symbol</th>\n",
       "      <th>timestamp</th>\n",
       "      <th></th>\n",
       "      <th></th>\n",
       "      <th></th>\n",
       "      <th></th>\n",
       "      <th></th>\n",
       "      <th></th>\n",
       "      <th></th>\n",
       "    </tr>\n",
       "  </thead>\n",
       "  <tbody>\n",
       "    <tr>\n",
       "      <th rowspan=\"5\" valign=\"top\">AAPL</th>\n",
       "      <th>2022-09-01 04:00:00+00:00</th>\n",
       "      <td>156.640</td>\n",
       "      <td>158.420</td>\n",
       "      <td>154.670</td>\n",
       "      <td>157.96</td>\n",
       "      <td>74224560.0</td>\n",
       "      <td>654608.0</td>\n",
       "      <td>156.523257</td>\n",
       "    </tr>\n",
       "    <tr>\n",
       "      <th>2022-09-02 04:00:00+00:00</th>\n",
       "      <td>159.750</td>\n",
       "      <td>160.362</td>\n",
       "      <td>154.965</td>\n",
       "      <td>155.81</td>\n",
       "      <td>77074411.0</td>\n",
       "      <td>646141.0</td>\n",
       "      <td>157.651625</td>\n",
       "    </tr>\n",
       "    <tr>\n",
       "      <th>2022-09-06 04:00:00+00:00</th>\n",
       "      <td>156.470</td>\n",
       "      <td>157.090</td>\n",
       "      <td>153.690</td>\n",
       "      <td>154.53</td>\n",
       "      <td>73679935.0</td>\n",
       "      <td>687134.0</td>\n",
       "      <td>155.011928</td>\n",
       "    </tr>\n",
       "    <tr>\n",
       "      <th>2022-09-07 04:00:00+00:00</th>\n",
       "      <td>154.825</td>\n",
       "      <td>156.670</td>\n",
       "      <td>153.610</td>\n",
       "      <td>155.96</td>\n",
       "      <td>87554883.0</td>\n",
       "      <td>696544.0</td>\n",
       "      <td>155.304640</td>\n",
       "    </tr>\n",
       "    <tr>\n",
       "      <th>2022-09-08 04:00:00+00:00</th>\n",
       "      <td>154.640</td>\n",
       "      <td>156.360</td>\n",
       "      <td>152.680</td>\n",
       "      <td>154.46</td>\n",
       "      <td>84907744.0</td>\n",
       "      <td>696902.0</td>\n",
       "      <td>154.394609</td>\n",
       "    </tr>\n",
       "  </tbody>\n",
       "</table>\n",
       "</div>"
      ],
      "text/plain": [
       "                                     open     high      low   close  \\\n",
       "symbol timestamp                                                      \n",
       "AAPL   2022-09-01 04:00:00+00:00  156.640  158.420  154.670  157.96   \n",
       "       2022-09-02 04:00:00+00:00  159.750  160.362  154.965  155.81   \n",
       "       2022-09-06 04:00:00+00:00  156.470  157.090  153.690  154.53   \n",
       "       2022-09-07 04:00:00+00:00  154.825  156.670  153.610  155.96   \n",
       "       2022-09-08 04:00:00+00:00  154.640  156.360  152.680  154.46   \n",
       "\n",
       "                                      volume  trade_count        vwap  \n",
       "symbol timestamp                                                       \n",
       "AAPL   2022-09-01 04:00:00+00:00  74224560.0     654608.0  156.523257  \n",
       "       2022-09-02 04:00:00+00:00  77074411.0     646141.0  157.651625  \n",
       "       2022-09-06 04:00:00+00:00  73679935.0     687134.0  155.011928  \n",
       "       2022-09-07 04:00:00+00:00  87554883.0     696544.0  155.304640  \n",
       "       2022-09-08 04:00:00+00:00  84907744.0     696902.0  154.394609  "
      ]
     },
     "execution_count": 280,
     "metadata": {},
     "output_type": "execute_result"
    }
   ],
   "source": [
    "stock_bars"
   ]
  },
  {
   "cell_type": "code",
   "execution_count": 118,
   "metadata": {},
   "outputs": [
    {
     "data": {
      "text/plain": [
       "{'AAPL': [('AAPL', 2022-09-01 06:00:00+00:00), ('AAPL', 2022-09-01 06:20:00+00:00), ('AAPL', 2022-09-01 07:00:00+00:00), ('AAPL', 2022-09-01 08:00:00+00:00), ('AAPL', 2022-09-01 08:20:00+00:00), ('AAPL', 2022-09-01 08:40:00+00:00), ('AAPL', 2022-09-01 09:00:00+00:00), ('AAPL', 2022-09-01 09:20:00+00:00), ('AAPL', 2022-09-01 09:40:00+00:00), ('AAPL', 2022-09-01 10:00:00+00:00), ('AAPL', 2022-09-01 10:20:00+00:00), ('AAPL', 2022-09-01 10:40:00+00:00), ('AAPL', 2022-09-01 11:00:00+00:00), ('AAPL', 2022-09-01 11:20:00+00:00), ('AAPL', 2022-09-01 11:40:00+00:00), ('AAPL', 2022-09-01 12:00:00+00:00), ('AAPL', 2022-09-01 12:20:00+00:00), ('AAPL', 2022-09-01 12:40:00+00:00), ('AAPL', 2022-09-01 13:00:00+00:00), ('AAPL', 2022-09-01 13:20:00+00:00), ('AAPL', 2022-09-01 13:40:00+00:00), ('AAPL', 2022-09-01 14:00:00+00:00), ('AAPL', 2022-09-01 14:20:00+00:00), ('AAPL', 2022-09-01 14:40:00+00:00), ('AAPL', 2022-09-01 15:00:00+00:00), ('AAPL', 2022-09-01 15:20:00+00:00), ('AAPL', 2022-09-01 15:40:00+00:00), ('AAPL', 2022-09-01 16:00:00+00:00), ('AAPL', 2022-09-01 16:20:00+00:00), ('AAPL', 2022-09-01 16:40:00+00:00), ('AAPL', 2022-09-01 17:00:00+00:00), ('AAPL', 2022-09-01 17:20:00+00:00), ('AAPL', 2022-09-01 17:40:00+00:00), ('AAPL', 2022-09-01 18:00:00+00:00), ('AAPL', 2022-09-01 18:20:00+00:00), ('AAPL', 2022-09-01 18:40:00+00:00), ('AAPL', 2022-09-01 19:00:00+00:00), ('AAPL', 2022-09-01 19:20:00+00:00), ('AAPL', 2022-09-01 19:40:00+00:00), ('AAPL', 2022-09-01 20:00:00+00:00), ('AAPL', 2022-09-01 20:20:00+00:00), ('AAPL', 2022-09-01 20:40:00+00:00), ('AAPL', 2022-09-01 21:00:00+00:00), ('AAPL', 2022-09-01 21:20:00+00:00), ('AAPL', 2022-09-01 21:40:00+00:00), ('AAPL', 2022-09-01 22:00:00+00:00), ('AAPL', 2022-09-01 22:20:00+00:00), ('AAPL', 2022-09-01 22:40:00+00:00), ('AAPL', 2022-09-01 23:00:00+00:00), ('AAPL', 2022-09-01 23:20:00+00:00), ('AAPL', 2022-09-01 23:40:00+00:00), ('AAPL', 2022-09-02 05:00:00+00:00), ('AAPL', 2022-09-02 05:20:00+00:00), ('AAPL', 2022-09-02 05:40:00+00:00), ('AAPL', 2022-09-02 06:00:00+00:00), ('AAPL', 2022-09-02 08:00:00+00:00), ('AAPL', 2022-09-02 08:20:00+00:00), ('AAPL', 2022-09-02 08:40:00+00:00), ('AAPL', 2022-09-02 09:00:00+00:00), ('AAPL', 2022-09-02 09:20:00+00:00), ('AAPL', 2022-09-02 09:40:00+00:00), ('AAPL', 2022-09-02 10:00:00+00:00), ('AAPL', 2022-09-02 10:20:00+00:00), ('AAPL', 2022-09-02 10:40:00+00:00), ('AAPL', 2022-09-02 11:00:00+00:00), ('AAPL', 2022-09-02 11:20:00+00:00), ('AAPL', 2022-09-02 11:40:00+00:00), ('AAPL', 2022-09-02 12:00:00+00:00), ('AAPL', 2022-09-02 12:20:00+00:00), ('AAPL', 2022-09-02 12:40:00+00:00), ('AAPL', 2022-09-02 13:00:00+00:00), ('AAPL', 2022-09-02 13:20:00+00:00), ('AAPL', 2022-09-02 13:40:00+00:00), ('AAPL', 2022-09-02 14:00:00+00:00), ('AAPL', 2022-09-02 14:20:00+00:00), ('AAPL', 2022-09-02 14:40:00+00:00), ('AAPL', 2022-09-02 15:00:00+00:00), ('AAPL', 2022-09-02 15:20:00+00:00), ('AAPL', 2022-09-02 15:40:00+00:00), ('AAPL', 2022-09-02 16:00:00+00:00), ('AAPL', 2022-09-02 16:20:00+00:00), ('AAPL', 2022-09-02 16:40:00+00:00), ('AAPL', 2022-09-02 17:00:00+00:00), ('AAPL', 2022-09-02 17:20:00+00:00), ('AAPL', 2022-09-02 17:40:00+00:00), ('AAPL', 2022-09-02 18:00:00+00:00), ('AAPL', 2022-09-02 18:20:00+00:00), ('AAPL', 2022-09-02 18:40:00+00:00), ('AAPL', 2022-09-02 19:00:00+00:00), ('AAPL', 2022-09-02 19:20:00+00:00), ('AAPL', 2022-09-02 19:40:00+00:00), ('AAPL', 2022-09-02 20:00:00+00:00), ('AAPL', 2022-09-02 20:20:00+00:00), ('AAPL', 2022-09-02 20:40:00+00:00), ('AAPL', 2022-09-02 21:00:00+00:00), ('AAPL', 2022-09-02 21:20:00+00:00), ('AAPL', 2022-09-02 21:40:00+00:00), ('AAPL', 2022-09-02 22:00:00+00:00), ('AAPL', 2022-09-02 22:20:00+00:00), ('AAPL', 2022-09-02 22:40:00+00:00), ...], 'MMM': [('MMM', 2022-09-01 10:20:00+00:00), ('MMM', 2022-09-01 10:40:00+00:00), ('MMM', 2022-09-01 11:00:00+00:00), ('MMM', 2022-09-01 11:20:00+00:00), ('MMM', 2022-09-01 11:40:00+00:00), ('MMM', 2022-09-01 12:00:00+00:00), ('MMM', 2022-09-01 12:20:00+00:00), ('MMM', 2022-09-01 12:40:00+00:00), ('MMM', 2022-09-01 13:00:00+00:00), ('MMM', 2022-09-01 13:20:00+00:00), ('MMM', 2022-09-01 13:40:00+00:00), ('MMM', 2022-09-01 14:00:00+00:00), ('MMM', 2022-09-01 14:20:00+00:00), ('MMM', 2022-09-01 14:40:00+00:00), ('MMM', 2022-09-01 15:00:00+00:00), ('MMM', 2022-09-01 15:20:00+00:00), ('MMM', 2022-09-01 15:40:00+00:00), ('MMM', 2022-09-01 16:00:00+00:00), ('MMM', 2022-09-01 16:20:00+00:00), ('MMM', 2022-09-01 16:40:00+00:00), ('MMM', 2022-09-01 17:00:00+00:00), ('MMM', 2022-09-01 17:20:00+00:00), ('MMM', 2022-09-01 17:40:00+00:00), ('MMM', 2022-09-01 18:00:00+00:00), ('MMM', 2022-09-01 18:20:00+00:00), ('MMM', 2022-09-01 18:40:00+00:00), ('MMM', 2022-09-01 19:00:00+00:00), ('MMM', 2022-09-01 19:20:00+00:00), ('MMM', 2022-09-01 19:40:00+00:00), ('MMM', 2022-09-01 20:00:00+00:00), ('MMM', 2022-09-01 20:20:00+00:00), ('MMM', 2022-09-01 20:40:00+00:00), ('MMM', 2022-09-01 21:00:00+00:00), ('MMM', 2022-09-01 22:00:00+00:00), ('MMM', 2022-09-01 22:20:00+00:00), ('MMM', 2022-09-01 23:20:00+00:00), ('MMM', 2022-09-01 23:40:00+00:00), ('MMM', 2022-09-02 10:20:00+00:00), ('MMM', 2022-09-02 10:40:00+00:00), ('MMM', 2022-09-02 12:00:00+00:00), ('MMM', 2022-09-02 12:20:00+00:00), ('MMM', 2022-09-02 12:40:00+00:00), ('MMM', 2022-09-02 13:00:00+00:00), ('MMM', 2022-09-02 13:20:00+00:00), ('MMM', 2022-09-02 13:40:00+00:00), ('MMM', 2022-09-02 14:00:00+00:00), ('MMM', 2022-09-02 14:20:00+00:00), ('MMM', 2022-09-02 14:40:00+00:00), ('MMM', 2022-09-02 15:00:00+00:00), ('MMM', 2022-09-02 15:20:00+00:00), ('MMM', 2022-09-02 15:40:00+00:00), ('MMM', 2022-09-02 16:00:00+00:00), ('MMM', 2022-09-02 16:20:00+00:00), ('MMM', 2022-09-02 16:40:00+00:00), ('MMM', 2022-09-02 17:00:00+00:00), ('MMM', 2022-09-02 17:20:00+00:00), ('MMM', 2022-09-02 17:40:00+00:00), ('MMM', 2022-09-02 18:00:00+00:00), ('MMM', 2022-09-02 18:20:00+00:00), ('MMM', 2022-09-02 18:40:00+00:00), ('MMM', 2022-09-02 19:00:00+00:00), ('MMM', 2022-09-02 19:20:00+00:00), ('MMM', 2022-09-02 19:40:00+00:00), ('MMM', 2022-09-02 20:00:00+00:00), ('MMM', 2022-09-02 20:20:00+00:00), ('MMM', 2022-09-02 20:40:00+00:00), ('MMM', 2022-09-02 21:00:00+00:00), ('MMM', 2022-09-06 08:00:00+00:00), ('MMM', 2022-09-06 10:20:00+00:00), ('MMM', 2022-09-06 11:00:00+00:00), ('MMM', 2022-09-06 11:20:00+00:00), ('MMM', 2022-09-06 11:40:00+00:00), ('MMM', 2022-09-06 12:00:00+00:00), ('MMM', 2022-09-06 12:20:00+00:00), ('MMM', 2022-09-06 12:40:00+00:00), ('MMM', 2022-09-06 13:00:00+00:00), ('MMM', 2022-09-06 13:20:00+00:00), ('MMM', 2022-09-06 13:40:00+00:00), ('MMM', 2022-09-06 14:00:00+00:00), ('MMM', 2022-09-06 14:20:00+00:00), ('MMM', 2022-09-06 14:40:00+00:00), ('MMM', 2022-09-06 15:00:00+00:00), ('MMM', 2022-09-06 15:20:00+00:00), ('MMM', 2022-09-06 15:40:00+00:00), ('MMM', 2022-09-06 16:00:00+00:00), ('MMM', 2022-09-06 16:20:00+00:00), ('MMM', 2022-09-06 16:40:00+00:00), ('MMM', 2022-09-06 17:00:00+00:00), ('MMM', 2022-09-06 17:20:00+00:00), ('MMM', 2022-09-06 17:40:00+00:00), ('MMM', 2022-09-06 18:00:00+00:00), ('MMM', 2022-09-06 18:20:00+00:00), ('MMM', 2022-09-06 18:40:00+00:00), ('MMM', 2022-09-06 19:00:00+00:00), ('MMM', 2022-09-06 19:20:00+00:00), ('MMM', 2022-09-06 19:40:00+00:00), ('MMM', 2022-09-06 20:00:00+00:00), ('MMM', 2022-09-06 20:20:00+00:00), ('MMM', 2022-09-06 20:40:00+00:00), ('MMM', 2022-09-06 21:40:00+00:00), ...]}"
      ]
     },
     "execution_count": 118,
     "metadata": {},
     "output_type": "execute_result"
    }
   ],
   "source": [
    "stock_bars.groupby('symbol').groups\n"
   ]
  },
  {
   "cell_type": "code",
   "execution_count": 130,
   "metadata": {},
   "outputs": [
    {
     "data": {
      "text/plain": [
       "symbol\n",
       "AAPL    258\n",
       "MMM     165\n",
       "dtype: int64"
      ]
     },
     "execution_count": 130,
     "metadata": {},
     "output_type": "execute_result"
    }
   ],
   "source": [
    "groups = stock_bars.groupby('symbol')\n",
    "groups.size()\n"
   ]
  },
  {
   "cell_type": "code",
   "execution_count": 129,
   "metadata": {},
   "outputs": [
    {
     "name": "stdout",
     "output_type": "stream",
     "text": [
      "                                    open    high     low   close   volume  \\\n",
      "symbol timestamp                                                            \n",
      "AAPL   2022-09-01 06:00:00+00:00  155.49  155.49  155.33  155.33    709.0   \n",
      "       2022-09-01 06:20:00+00:00  155.29  155.29  155.29  155.29    207.0   \n",
      "       2022-09-01 07:00:00+00:00  155.58  155.58  155.58  155.58    258.0   \n",
      "       2022-09-01 08:00:00+00:00  156.00  156.42  156.00  156.34  34929.0   \n",
      "       2022-09-01 08:20:00+00:00  156.24  156.39  155.88  156.00  27107.0   \n",
      "...                                  ...     ...     ...     ...      ...   \n",
      "       2022-09-08 22:20:00+00:00  154.32  154.34  154.26  154.30  19192.0   \n",
      "       2022-09-08 22:40:00+00:00  154.35  154.40  154.31  154.40   8685.0   \n",
      "       2022-09-08 23:00:00+00:00  154.38  154.56  154.34  154.50  24653.0   \n",
      "       2022-09-08 23:20:00+00:00  154.50  154.57  154.30  154.50  21712.0   \n",
      "       2022-09-08 23:40:00+00:00  154.56  154.69  154.52  154.60  28115.0   \n",
      "\n",
      "                                  trade_count        vwap  \n",
      "symbol timestamp                                           \n",
      "AAPL   2022-09-01 06:00:00+00:00         18.0  155.427264  \n",
      "       2022-09-01 06:20:00+00:00         17.0  155.295024  \n",
      "       2022-09-01 07:00:00+00:00          1.0  155.580000  \n",
      "       2022-09-01 08:00:00+00:00        913.0  156.186360  \n",
      "       2022-09-01 08:20:00+00:00        620.0  156.111308  \n",
      "...                                       ...         ...  \n",
      "       2022-09-08 22:20:00+00:00        255.0  154.297051  \n",
      "       2022-09-08 22:40:00+00:00        207.0  154.373163  \n",
      "       2022-09-08 23:00:00+00:00        336.0  154.447681  \n",
      "       2022-09-08 23:20:00+00:00        301.0  154.433604  \n",
      "       2022-09-08 23:40:00+00:00        532.0  154.602971  \n",
      "\n",
      "[258 rows x 7 columns]\n",
      "                                    open    high     low   close     volume  \\\n",
      "symbol timestamp                                                              \n",
      "MMM    2022-09-01 10:20:00+00:00  124.35  124.35  124.35  124.35     1011.0   \n",
      "       2022-09-01 10:40:00+00:00  124.15  124.15  124.15  124.15      200.0   \n",
      "       2022-09-01 11:00:00+00:00  124.35  124.35  124.35  124.35     1534.0   \n",
      "       2022-09-01 11:20:00+00:00  124.35  124.85  124.25  124.84     9220.0   \n",
      "       2022-09-01 11:40:00+00:00  124.85  124.85  124.75  124.85     5656.0   \n",
      "...                                  ...     ...     ...     ...        ...   \n",
      "       2022-09-08 20:00:00+00:00  119.28  119.40  119.27  119.31  7817806.0   \n",
      "       2022-09-08 20:20:00+00:00  119.27  119.27  119.27  119.27   626539.0   \n",
      "       2022-09-08 21:00:00+00:00  119.30  119.50  119.30  119.30      843.0   \n",
      "       2022-09-08 23:00:00+00:00  119.27  119.27  119.27  119.27        2.0   \n",
      "       2022-09-08 23:20:00+00:00  119.32  119.32  119.32  119.32      100.0   \n",
      "\n",
      "                                  trade_count        vwap  \n",
      "symbol timestamp                                           \n",
      "MMM    2022-09-01 10:20:00+00:00         26.0  124.236944  \n",
      "       2022-09-01 10:40:00+00:00          6.0  124.150000  \n",
      "       2022-09-01 11:00:00+00:00         13.0  124.345756  \n",
      "       2022-09-01 11:20:00+00:00        136.0  124.604350  \n",
      "       2022-09-01 11:40:00+00:00         60.0  124.846388  \n",
      "...                                       ...         ...  \n",
      "       2022-09-08 20:00:00+00:00         36.0  119.270004  \n",
      "       2022-09-08 20:20:00+00:00          2.0  119.270000  \n",
      "       2022-09-08 21:00:00+00:00          5.0  119.371981  \n",
      "       2022-09-08 23:00:00+00:00          2.0  119.490000  \n",
      "       2022-09-08 23:20:00+00:00          1.0  119.320000  \n",
      "\n",
      "[165 rows x 7 columns]\n"
     ]
    }
   ],
   "source": [
    "for group in groups:\n",
    "    print(group[1])"
   ]
  },
  {
   "cell_type": "code",
   "execution_count": 184,
   "metadata": {},
   "outputs": [],
   "source": [
    "def enum_to_val(item):\n",
    "    if isinstance(item, Enum):\n",
    "        return item.value\n",
    "    return item"
   ]
  },
  {
   "cell_type": "code",
   "execution_count": 192,
   "metadata": {},
   "outputs": [],
   "source": [
    "def enum_dict_to_val_dict(dict_):\n",
    "    for key, val in dict_.items():\n",
    "        dict_[key] = enum_to_val(val)\n",
    "    return dict_"
   ]
  },
  {
   "cell_type": "code",
   "execution_count": 193,
   "metadata": {},
   "outputs": [],
   "source": [
    "def get_all_positions():\n",
    "    positions = trading_client.get_all_positions()\n",
    "    positions_df = pd.DataFrame(enum_dict_to_val_dict(\n",
    "        position.__dict__) for position in positions)\n",
    "    return positions_df"
   ]
  },
  {
   "cell_type": "code",
   "execution_count": 196,
   "metadata": {},
   "outputs": [],
   "source": [
    "positions = get_all_positions()"
   ]
  },
  {
   "cell_type": "code",
   "execution_count": 215,
   "metadata": {},
   "outputs": [],
   "source": [
    "asset_classes = [member.name for member in AssetClass]\n"
   ]
  },
  {
   "cell_type": "code",
   "execution_count": 216,
   "metadata": {},
   "outputs": [
    {
     "data": {
      "text/plain": [
       "['US_EQUITY', 'CRYPTO']"
      ]
     },
     "execution_count": 216,
     "metadata": {},
     "output_type": "execute_result"
    }
   ],
   "source": [
    "asset_classes"
   ]
  },
  {
   "cell_type": "code",
   "execution_count": 218,
   "metadata": {},
   "outputs": [],
   "source": [
    "exchanges = [member.name for member in AssetExchange]"
   ]
  },
  {
   "cell_type": "code",
   "execution_count": 219,
   "metadata": {},
   "outputs": [
    {
     "data": {
      "text/plain": [
       "['AMEX',\n",
       " 'ARCA',\n",
       " 'BATS',\n",
       " 'NYSE',\n",
       " 'NASDAQ',\n",
       " 'NYSEARCA',\n",
       " 'FTXU',\n",
       " 'CBSE',\n",
       " 'GNSS',\n",
       " 'ERSX',\n",
       " 'OTC']"
      ]
     },
     "execution_count": 219,
     "metadata": {},
     "output_type": "execute_result"
    }
   ],
   "source": [
    "exchanges"
   ]
  },
  {
   "cell_type": "code",
   "execution_count": 240,
   "metadata": {},
   "outputs": [],
   "source": [
    "assets = trading_client.get_all_assets()"
   ]
  },
  {
   "cell_type": "code",
   "execution_count": 241,
   "metadata": {},
   "outputs": [
    {
     "data": {
      "text/plain": [
       "31491"
      ]
     },
     "execution_count": 241,
     "metadata": {},
     "output_type": "execute_result"
    }
   ],
   "source": [
    "len(assets)"
   ]
  },
  {
   "cell_type": "code",
   "execution_count": 242,
   "metadata": {},
   "outputs": [],
   "source": [
    "assets = [asset for asset in assets if\n",
    "          asset.status == AssetStatus.ACTIVE and\n",
    "          asset.tradable\n",
    "]"
   ]
  },
  {
   "cell_type": "code",
   "execution_count": 243,
   "metadata": {},
   "outputs": [
    {
     "data": {
      "text/plain": [
       "11069"
      ]
     },
     "execution_count": 243,
     "metadata": {},
     "output_type": "execute_result"
    }
   ],
   "source": [
    "len(assets)"
   ]
  },
  {
   "cell_type": "code",
   "execution_count": 239,
   "metadata": {},
   "outputs": [
    {
     "data": {
      "text/plain": [
       "{   'asset_class': <AssetClass.US_EQUITY: 'us_equity'>,\n",
       "    'easy_to_borrow': False,\n",
       "    'exchange': <AssetExchange.OTC: 'OTC'>,\n",
       "    'fractionable': False,\n",
       "    'id': UUID('7d92777b-37fd-4fad-8e83-d9de3dde1ba9'),\n",
       "    'maintenance_margin_requirement': 100.0,\n",
       "    'marginable': False,\n",
       "    'min_order_size': None,\n",
       "    'min_trade_increment': None,\n",
       "    'name': 'Peoples Insurance Company Group China Ltd Unsponsored ADR (China)',\n",
       "    'price_increment': None,\n",
       "    'shortable': False,\n",
       "    'status': <AssetStatus.INACTIVE: 'inactive'>,\n",
       "    'symbol': 'PINXY',\n",
       "    'tradable': False}"
      ]
     },
     "execution_count": 239,
     "metadata": {},
     "output_type": "execute_result"
    }
   ],
   "source": [
    "asset"
   ]
  },
  {
   "cell_type": "code",
   "execution_count": 221,
   "metadata": {},
   "outputs": [
    {
     "data": {
      "text/plain": [
       "<AssetClass.US_EQUITY: 'us_equity'>"
      ]
     },
     "execution_count": 221,
     "metadata": {},
     "output_type": "execute_result"
    }
   ],
   "source": [
    "asset.asset_class"
   ]
  },
  {
   "cell_type": "code",
   "execution_count": 222,
   "metadata": {},
   "outputs": [
    {
     "data": {
      "text/plain": [
       "'PINXY'"
      ]
     },
     "execution_count": 222,
     "metadata": {},
     "output_type": "execute_result"
    }
   ],
   "source": [
    "asset.symbol"
   ]
  },
  {
   "cell_type": "code",
   "execution_count": 223,
   "metadata": {},
   "outputs": [
    {
     "data": {
      "text/plain": [
       "{'id': UUID('7d92777b-37fd-4fad-8e83-d9de3dde1ba9'),\n",
       " 'asset_class': <AssetClass.US_EQUITY: 'us_equity'>,\n",
       " 'exchange': <AssetExchange.OTC: 'OTC'>,\n",
       " 'symbol': 'PINXY',\n",
       " 'name': 'Peoples Insurance Company Group China Ltd Unsponsored ADR (China)',\n",
       " 'status': <AssetStatus.INACTIVE: 'inactive'>,\n",
       " 'tradable': False,\n",
       " 'marginable': False,\n",
       " 'shortable': False,\n",
       " 'easy_to_borrow': False,\n",
       " 'fractionable': False,\n",
       " 'min_order_size': None,\n",
       " 'min_trade_increment': None,\n",
       " 'price_increment': None,\n",
       " 'maintenance_margin_requirement': 100.0}"
      ]
     },
     "execution_count": 223,
     "metadata": {},
     "output_type": "execute_result"
    }
   ],
   "source": [
    "asset.__dict__"
   ]
  },
  {
   "cell_type": "code",
   "execution_count": 229,
   "metadata": {},
   "outputs": [],
   "source": [
    "account = trading_client.get_account()"
   ]
  },
  {
   "cell_type": "code",
   "execution_count": 231,
   "metadata": {},
   "outputs": [
    {
     "data": {
      "text/plain": [
       "True"
      ]
     },
     "execution_count": 231,
     "metadata": {},
     "output_type": "execute_result"
    }
   ],
   "source": [
    "account.status == AccountStatus.ACTIVE"
   ]
  },
  {
   "cell_type": "code",
   "execution_count": 226,
   "metadata": {},
   "outputs": [
    {
     "data": {
      "text/plain": [
       "'-5363.47'"
      ]
     },
     "execution_count": 226,
     "metadata": {},
     "output_type": "execute_result"
    }
   ],
   "source": [
    "account.cash"
   ]
  },
  {
   "cell_type": "code",
   "execution_count": 247,
   "metadata": {},
   "outputs": [
    {
     "name": "stdout",
     "output_type": "stream",
     "text": [
      "Collecting exchange_calendars\n",
      "  Using cached exchange_calendars-4.2.5-py3-none-any.whl (189 kB)\n",
      "Requirement already satisfied: korean-lunar-calendar in /home/reza_soleymanifar/miniconda3/envs/alpaca-rl/lib/python3.10/site-packages (from exchange_calendars) (0.3.1)\n",
      "Requirement already satisfied: python-dateutil in /home/reza_soleymanifar/miniconda3/envs/alpaca-rl/lib/python3.10/site-packages (from exchange_calendars) (2.8.2)\n",
      "Requirement already satisfied: pyluach in /home/reza_soleymanifar/miniconda3/envs/alpaca-rl/lib/python3.10/site-packages (from exchange_calendars) (2.2.0)\n",
      "Requirement already satisfied: pandas>=1.1 in /home/reza_soleymanifar/miniconda3/envs/alpaca-rl/lib/python3.10/site-packages (from exchange_calendars) (1.5.3)\n",
      "Requirement already satisfied: numpy in /home/reza_soleymanifar/miniconda3/envs/alpaca-rl/lib/python3.10/site-packages (from exchange_calendars) (1.24.2)\n",
      "Requirement already satisfied: toolz in /home/reza_soleymanifar/miniconda3/envs/alpaca-rl/lib/python3.10/site-packages (from exchange_calendars) (0.12.0)\n",
      "Requirement already satisfied: pytz in /home/reza_soleymanifar/miniconda3/envs/alpaca-rl/lib/python3.10/site-packages (from exchange_calendars) (2022.7.1)\n",
      "Requirement already satisfied: six>=1.5 in /home/reza_soleymanifar/miniconda3/envs/alpaca-rl/lib/python3.10/site-packages (from python-dateutil->exchange_calendars) (1.16.0)\n",
      "Installing collected packages: exchange_calendars\n",
      "Successfully installed exchange_calendars-4.2.5\n"
     ]
    }
   ],
   "source": [
    "!pip install exchange_calendars"
   ]
  },
  {
   "cell_type": "code",
   "execution_count": 258,
   "metadata": {},
   "outputs": [],
   "source": [
    "import pandas as pd\n",
    "import pandas_market_calendars as mcal\n",
    "\n",
    "# Define the NYSE and NASDAQ calendars\n",
    "calendar = mcal.get_calendar('NYSE')\n",
    "schedule = calendar.schedule(start_date=start, end_date=end)\n"
   ]
  },
  {
   "cell_type": "code",
   "execution_count": 260,
   "metadata": {},
   "outputs": [
    {
     "data": {
      "text/html": [
       "<div>\n",
       "<style scoped>\n",
       "    .dataframe tbody tr th:only-of-type {\n",
       "        vertical-align: middle;\n",
       "    }\n",
       "\n",
       "    .dataframe tbody tr th {\n",
       "        vertical-align: top;\n",
       "    }\n",
       "\n",
       "    .dataframe thead th {\n",
       "        text-align: right;\n",
       "    }\n",
       "</style>\n",
       "<table border=\"1\" class=\"dataframe\">\n",
       "  <thead>\n",
       "    <tr style=\"text-align: right;\">\n",
       "      <th></th>\n",
       "      <th>market_open</th>\n",
       "      <th>market_close</th>\n",
       "    </tr>\n",
       "  </thead>\n",
       "  <tbody>\n",
       "    <tr>\n",
       "      <th>2022-09-01</th>\n",
       "      <td>2022-09-01 13:30:00+00:00</td>\n",
       "      <td>2022-09-01 20:00:00+00:00</td>\n",
       "    </tr>\n",
       "    <tr>\n",
       "      <th>2022-09-02</th>\n",
       "      <td>2022-09-02 13:30:00+00:00</td>\n",
       "      <td>2022-09-02 20:00:00+00:00</td>\n",
       "    </tr>\n",
       "    <tr>\n",
       "      <th>2022-09-06</th>\n",
       "      <td>2022-09-06 13:30:00+00:00</td>\n",
       "      <td>2022-09-06 20:00:00+00:00</td>\n",
       "    </tr>\n",
       "    <tr>\n",
       "      <th>2022-09-07</th>\n",
       "      <td>2022-09-07 13:30:00+00:00</td>\n",
       "      <td>2022-09-07 20:00:00+00:00</td>\n",
       "    </tr>\n",
       "    <tr>\n",
       "      <th>2022-09-08</th>\n",
       "      <td>2022-09-08 13:30:00+00:00</td>\n",
       "      <td>2022-09-08 20:00:00+00:00</td>\n",
       "    </tr>\n",
       "    <tr>\n",
       "      <th>2022-09-09</th>\n",
       "      <td>2022-09-09 13:30:00+00:00</td>\n",
       "      <td>2022-09-09 20:00:00+00:00</td>\n",
       "    </tr>\n",
       "  </tbody>\n",
       "</table>\n",
       "</div>"
      ],
      "text/plain": [
       "                         market_open              market_close\n",
       "2022-09-01 2022-09-01 13:30:00+00:00 2022-09-01 20:00:00+00:00\n",
       "2022-09-02 2022-09-02 13:30:00+00:00 2022-09-02 20:00:00+00:00\n",
       "2022-09-06 2022-09-06 13:30:00+00:00 2022-09-06 20:00:00+00:00\n",
       "2022-09-07 2022-09-07 13:30:00+00:00 2022-09-07 20:00:00+00:00\n",
       "2022-09-08 2022-09-08 13:30:00+00:00 2022-09-08 20:00:00+00:00\n",
       "2022-09-09 2022-09-09 13:30:00+00:00 2022-09-09 20:00:00+00:00"
      ]
     },
     "execution_count": 260,
     "metadata": {},
     "output_type": "execute_result"
    }
   ],
   "source": [
    "schedule"
   ]
  },
  {
   "cell_type": "code",
   "execution_count": 9,
   "metadata": {},
   "outputs": [],
   "source": [
    "n_rows = 1000_000\n",
    "n = 6"
   ]
  },
  {
   "cell_type": "code",
   "execution_count": 10,
   "metadata": {},
   "outputs": [],
   "source": [
    "step, remainder = divmod(n_rows, n)"
   ]
  },
  {
   "cell_type": "code",
   "execution_count": 11,
   "metadata": {},
   "outputs": [
    {
     "name": "stdout",
     "output_type": "stream",
     "text": [
      "0 166667\n",
      "166667 333334\n",
      "333334 500001\n",
      "500001 666668\n",
      "666668 833334\n",
      "833334 1000000\n"
     ]
    }
   ],
   "source": [
    "for i in range(n):\n",
    "\n",
    "    start = i * step + min(i, remainder)\n",
    "    end = (i + 1) * step + min(i+1, remainder)\n",
    "    print(start, end)\n"
   ]
  },
  {
   "cell_type": "code",
   "execution_count": 13,
   "metadata": {},
   "outputs": [],
   "source": [
    "iterable = iter(range(9))\n",
    "def func():\n",
    "    x = next(iterable)\n",
    "    yield x\n"
   ]
  },
  {
   "cell_type": "code",
   "execution_count": 17,
   "metadata": {},
   "outputs": [
    {
     "data": {
      "text/plain": [
       "2"
      ]
     },
     "execution_count": 17,
     "metadata": {},
     "output_type": "execute_result"
    }
   ],
   "source": [
    "next(func())"
   ]
  },
  {
   "cell_type": "code",
   "execution_count": null,
   "metadata": {},
   "outputs": [],
   "source": []
  }
 ],
 "metadata": {
  "kernelspec": {
   "display_name": "alpaca-rl",
   "language": "python",
   "name": "python3"
  },
  "language_info": {
   "codemirror_mode": {
    "name": "ipython",
    "version": 3
   },
   "file_extension": ".py",
   "mimetype": "text/x-python",
   "name": "python",
   "nbconvert_exporter": "python",
   "pygments_lexer": "ipython3",
   "version": "3.10.9"
  },
  "orig_nbformat": 4,
  "vscode": {
   "interpreter": {
    "hash": "ddc97aec4ac624e0196f3e124b2c4d7d31afaa205b700d57a4cf42f16ea8d4c1"
   }
  }
 },
 "nbformat": 4,
 "nbformat_minor": 2
}
