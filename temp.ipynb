{
 "cells": [
  {
   "cell_type": "code",
   "execution_count": 5,
   "metadata": {},
   "outputs": [],
   "source": [
    "import sys\n",
    "sys.path.append('./alpacarl')\n"
   ]
  },
  {
   "cell_type": "code",
   "execution_count": 6,
   "metadata": {},
   "outputs": [
    {
     "ename": "TypeError",
     "evalue": "'NoneType' object does not support item assignment",
     "output_type": "error",
     "traceback": [
      "\u001b[0;31m---------------------------------------------------------------------------\u001b[0m",
      "\u001b[0;31mTypeError\u001b[0m                                 Traceback (most recent call last)",
      "Cell \u001b[0;32mIn[6], line 4\u001b[0m\n\u001b[1;32m      1\u001b[0m \u001b[39mfrom\u001b[39;00m \u001b[39malpacarl\u001b[39;00m\u001b[39m.\u001b[39;00m\u001b[39mconnect\u001b[39;00m\u001b[39m.\u001b[39;00m\u001b[39mclient\u001b[39;00m \u001b[39mimport\u001b[39;00m AlpacaMetaClient\n\u001b[1;32m      3\u001b[0m client \u001b[39m=\u001b[39m AlpacaMetaClient(sandbox\u001b[39m=\u001b[39m\u001b[39mTrue\u001b[39;00m)\n\u001b[0;32m----> 4\u001b[0m client\u001b[39m.\u001b[39;49msetup_clients_and_account()\n",
      "File \u001b[0;32m~/repos/AlpacaRL/alpacarl/connect/client.py:44\u001b[0m, in \u001b[0;36mAlpacaMetaClient.setup_clients_and_account\u001b[0;34m(self)\u001b[0m\n\u001b[1;32m     41\u001b[0m \u001b[39mdef\u001b[39;00m \u001b[39msetup_clients_and_account\u001b[39m(\u001b[39mself\u001b[39m) \u001b[39m-\u001b[39m\u001b[39m>\u001b[39m \u001b[39mNone\u001b[39;00m:\n\u001b[1;32m     42\u001b[0m \n\u001b[1;32m     43\u001b[0m     \u001b[39m# crypto does not need key, and secret but will be faster if provided\u001b[39;00m\n\u001b[0;32m---> 44\u001b[0m     \u001b[39mself\u001b[39;49m\u001b[39m.\u001b[39;49mclients[\u001b[39m'\u001b[39;49m\u001b[39mcrypto\u001b[39;49m\u001b[39m'\u001b[39;49m] \u001b[39m=\u001b[39m CryptoHistoricalDataClient(\n\u001b[1;32m     45\u001b[0m         api_key \u001b[39m=\u001b[39m \u001b[39mself\u001b[39m\u001b[39m.\u001b[39mkey, secret_key \u001b[39m=\u001b[39m\u001b[39mself\u001b[39m\u001b[39m.\u001b[39msecret)\n\u001b[1;32m     46\u001b[0m     \u001b[39mself\u001b[39m\u001b[39m.\u001b[39mclients[\u001b[39m'\u001b[39m\u001b[39mstocks\u001b[39m\u001b[39m'\u001b[39m] \u001b[39m=\u001b[39m StockHistoricalDataClient(\n\u001b[1;32m     47\u001b[0m         api_key\u001b[39m=\u001b[39m\u001b[39mself\u001b[39m\u001b[39m.\u001b[39mkey, secret_key\u001b[39m=\u001b[39m\u001b[39mself\u001b[39m\u001b[39m.\u001b[39msecret)\n\u001b[1;32m     48\u001b[0m     \u001b[39mself\u001b[39m\u001b[39m.\u001b[39mclients[\u001b[39m'\u001b[39m\u001b[39mtrading\u001b[39m\u001b[39m'\u001b[39m] \u001b[39m=\u001b[39m TradingClient(\n\u001b[1;32m     49\u001b[0m         api_key\u001b[39m=\u001b[39m\u001b[39mself\u001b[39m\u001b[39m.\u001b[39mkey, secret_key\u001b[39m=\u001b[39m\u001b[39mself\u001b[39m\u001b[39m.\u001b[39msecret)\n",
      "\u001b[0;31mTypeError\u001b[0m: 'NoneType' object does not support item assignment"
     ]
    }
   ],
   "source": [
    "from alpacarl.connect.client import AlpacaMetaClient\n",
    "\n",
    "client = AlpacaMetaClient(sandbox=True)\n",
    "client.setup_clients_and_account()"
   ]
  },
  {
   "cell_type": "code",
   "execution_count": 1,
   "metadata": {},
   "outputs": [
    {
     "ename": "NameError",
     "evalue": "name 'client' is not defined",
     "output_type": "error",
     "traceback": [
      "\u001b[0;31m---------------------------------------------------------------------------\u001b[0m",
      "\u001b[0;31mNameError\u001b[0m                                 Traceback (most recent call last)",
      "Cell \u001b[0;32mIn[1], line 1\u001b[0m\n\u001b[0;32m----> 1\u001b[0m client\u001b[39m.\u001b[39msetup_clients_and_account()\n",
      "\u001b[0;31mNameError\u001b[0m: name 'client' is not defined"
     ]
    }
   ],
   "source": [
    "client.setup_clients_and_account()"
   ]
  },
  {
   "cell_type": "code",
   "execution_count": null,
   "metadata": {},
   "outputs": [],
   "source": []
  }
 ],
 "metadata": {
  "kernelspec": {
   "display_name": "Python 3",
   "language": "python",
   "name": "python3"
  },
  "language_info": {
   "codemirror_mode": {
    "name": "ipython",
    "version": 3
   },
   "file_extension": ".py",
   "mimetype": "text/x-python",
   "name": "python",
   "nbconvert_exporter": "python",
   "pygments_lexer": "ipython3",
   "version": "3.10.9"
  },
  "orig_nbformat": 4
 },
 "nbformat": 4,
 "nbformat_minor": 2
}
